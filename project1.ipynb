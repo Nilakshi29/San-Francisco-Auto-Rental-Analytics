{
 "cells": [
  {
   "cell_type": "markdown",
   "id": "83e1a6ba-f78a-4e44-a6c9-16eb29487a4d",
   "metadata": {},
   "source": [
    "## Introduction"
   ]
  },
  {
   "cell_type": "raw",
   "id": "695ebf44-64f1-4f05-9490-816d36fbd363",
   "metadata": {},
   "source": [
    "This project aims to develop a predictive model to determine the likelihood of ride cancellations by drivers for San Francisco's Shared Autonomous Rides (SAR) service. By analyzing historical ride data, we seek to identify the key factors influencing cancellation decisions. The outcome of this project will enable SAR management to proactively address potential cancellations, improve service reliability, and enhance overall customer satisfaction. The approach involves a comprehensive data analysis process, including data exploration, preprocessing, feature engineering, model selection, training, and evaluation."
   ]
  },
  {
   "cell_type": "markdown",
   "id": "ff55b53e-6f1f-4514-b02e-7b5736b561af",
   "metadata": {},
   "source": [
    "## Business goals"
   ]
  },
  {
   "cell_type": "raw",
   "id": "bd628774-337c-42ee-b571-f7391b8e27a5",
   "metadata": {},
   "source": [
    "Reduce Ride Cancellations\n",
    "→ Fewer cancellations = Better customer trust and lower operational losses.\n",
    "\n",
    "Improve Customer Satisfaction\n",
    "→ On-time pickups and smooth rides lead to repeat customers and good reviews.\n",
    "\n",
    "Optimize Fleet & Driver Allocation\n",
    "→ Use vehicles and drivers more efficiently, based on demand patterns.\n",
    "\n",
    "Boost Operational Efficiency\n",
    "→ Reduce idle time, avoid unnecessary bookings, and streamline logistics.\n",
    "\n",
    "Make Data-Driven Decisions\n",
    "→ Use insights to guide marketing, pricing, and area expansion strategies."
   ]
  },
  {
   "cell_type": "markdown",
   "id": "dc145e92-49ad-43a6-86f3-cf5d57e7b70e",
   "metadata": {},
   "source": [
    "## Analytics goals"
   ]
  },
  {
   "cell_type": "raw",
   "id": "c665d3a8-b96e-4bbe-998c-1fab80cb12d7",
   "metadata": {},
   "source": [
    "Predict Ride Cancellations in Advance\n",
    "→ Use ML models to identify bookings with high cancellation risk.\n",
    "\n",
    "Understand Customer Behavior\n",
    "→ Analyze booking channels (mobile site, online), preferred areas, time slots, etc.\n",
    "\n",
    "Clean & Prepare Real-World Data\n",
    "→ Handle missing values, encode categories, and scale features for better model performance.\n",
    "\n",
    "Compare ML Models for Best Accuracy\n",
    "→ Test multiple models (Logistic Regression, Random Forest, SVM, etc.) and pick the most reliable one.\n",
    "\n",
    "Provide Actionable Insights\n",
    "→ Visualizations and reports that SAR can actually use to take business actions."
   ]
  },
  {
   "cell_type": "markdown",
   "id": "5fd315e1-d4b1-468a-8829-65593ba0d5c8",
   "metadata": {},
   "source": [
    "## Dataset"
   ]
  },
  {
   "cell_type": "raw",
   "id": "dca1855a-07e5-4d9d-9f1e-aee3de4fdeda",
   "metadata": {},
   "source": [
    "The dataset (“SAR Rental.csv”) is a random subset of 10,000 SAR total records from 2013. The dataset has the following 19 attributes:\n",
    "1. Row ID: This is the unique identifier of this dataset. It is a number identifying each record.\n",
    "2. User ID: This is the identifier of each client. There are many duplicates in this subset, meaning there are many clients who have called multiple rides.\n",
    "3. Vehicle Model ID: This is an ID that represents the type of vehicle driven for each ride. This also identifies the driver of the vehicle.\n",
    "4. Travel Type ID: This is an ID that represents the type of travel (1= long distance, 2= point to point, 3= hourly rental).\n",
    "5. Package ID: This is an ID that represents the type of travel package, with the following descriptions: 1=4hrs & 40kms, 2=8hrs & 80kms, 3=6hrs & 60kms, 4= 10hrs & 100kms, 5=5hrs & 50kms, 6=3hrs & 30kms, 7=12hrs & 120kms.\n",
    "6. From Area: This is an identifier of the starting area. Available only for point-to-point travel.\n",
    "7. To Area: This is an identifier of the ending area. Available only for point-to-point travel.\n",
    "8. From City ID: Unique identifier of the starting city (i.e. suburb cities of San Francisco).\n",
    "9. To City ID: Unique identifier of the ending city.\n",
    "10. From Date: Date and time of the requested trip start.\n",
    "11. To Date: Time stamp of trip end.\n",
    "12. Online Booking: A binary (0,1) variable representing whether the booking was made online or not. 0 represents no, 1 represents yes.\n",
    "13. Mobile Site Booking: A binary (0,1) variable representing whether booking was made on their mobile site or not. 0 represents no, 1 represents yes.\n",
    "14. Booking Created: Date and time of booking created.\n",
    "15. From Lat: The latitude of the start area.\n",
    "16. From Long: The longitude of the start area.\n",
    "17. To Lat: The latitude of the end area.\n",
    "18. To Long: The longitude of the end area.\n",
    "19. Car Cancellation: The target variable. A binary (0,1) variable representing whether or not the ride was cancelled. 0 means no, 1 means yes."
   ]
  },
  {
   "cell_type": "code",
   "execution_count": 1,
   "id": "1369f07d-dd1c-40f9-bd57-8444aa6e05d6",
   "metadata": {},
   "outputs": [],
   "source": [
    "import pandas as pd\n",
    "import numpy as np\n",
    "import matplotlib.pyplot as plt\n",
    "import seaborn as sns "
   ]
  },
  {
   "cell_type": "code",
   "execution_count": 2,
   "id": "e98fa2f0-5aee-42f9-b642-6aaf5f8607db",
   "metadata": {},
   "outputs": [
    {
     "name": "stdout",
     "output_type": "stream",
     "text": [
      "   row#  user_id  vehicle_model_id  package_id  travel_type_id  from_area_id  \\\n",
      "0     1    17712                12         NaN               2        1021.0   \n",
      "1     2    17037                12         NaN               2         455.0   \n",
      "2     3      761                12         NaN               2         814.0   \n",
      "3     4      868                12         NaN               2         297.0   \n",
      "4     5    21716                28         NaN               2        1237.0   \n",
      "\n",
      "   to_area_id  from_city_id  to_city_id       from_date        to_date  \\\n",
      "0      1323.0           NaN         NaN  1/1/2013 22:33            NaN   \n",
      "1      1330.0           NaN         NaN  1/1/2013 12:43            NaN   \n",
      "2       393.0           NaN         NaN   1/2/2013 0:28  1/3/2013 0:00   \n",
      "3       212.0           NaN         NaN  1/1/2013 13:12            NaN   \n",
      "4       330.0           NaN         NaN  1/1/2013 16:33            NaN   \n",
      "\n",
      "   online_booking  mobile_site_booking booking_created   from_lat  from_long  \\\n",
      "0               0                    0   1/1/2013 8:01  13.028530   77.54625   \n",
      "1               0                    0   1/1/2013 9:59  12.999874   77.67812   \n",
      "2               1                    0  1/1/2013 12:14  12.908993   77.68890   \n",
      "3               0                    0  1/1/2013 12:42  12.997890   77.61488   \n",
      "4               0                    0  1/1/2013 15:07  12.926450   77.61206   \n",
      "\n",
      "      to_lat    to_long  Car_Cancellation  \n",
      "0  12.869805  77.653211                 0  \n",
      "1  12.953434  77.706510                 0  \n",
      "2  13.199560  77.706880                 0  \n",
      "3  12.994740  77.607970                 0  \n",
      "4  12.858833  77.589127                 0  \n"
     ]
    }
   ],
   "source": [
    "# 1. Load the dataset\n",
    "df = pd.read_csv('SAR Rental.csv')\n",
    "print(df.head())"
   ]
  },
  {
   "cell_type": "code",
   "execution_count": 3,
   "id": "fb077cce-63f8-4a49-bda7-2086d48531cb",
   "metadata": {},
   "outputs": [
    {
     "name": "stdout",
     "output_type": "stream",
     "text": [
      "<class 'pandas.core.frame.DataFrame'>\n",
      "RangeIndex: 10000 entries, 0 to 9999\n",
      "Data columns (total 19 columns):\n",
      " #   Column               Non-Null Count  Dtype  \n",
      "---  ------               --------------  -----  \n",
      " 0   row#                 10000 non-null  int64  \n",
      " 1   user_id              10000 non-null  int64  \n",
      " 2   vehicle_model_id     10000 non-null  int64  \n",
      " 3   package_id           1752 non-null   float64\n",
      " 4   travel_type_id       10000 non-null  int64  \n",
      " 5   from_area_id         9985 non-null   float64\n",
      " 6   to_area_id           7909 non-null   float64\n",
      " 7   from_city_id         3706 non-null   float64\n",
      " 8   to_city_id           339 non-null    float64\n",
      " 9   from_date            10000 non-null  object \n",
      " 10  to_date              5822 non-null   object \n",
      " 11  online_booking       10000 non-null  int64  \n",
      " 12  mobile_site_booking  10000 non-null  int64  \n",
      " 13  booking_created      10000 non-null  object \n",
      " 14  from_lat             9985 non-null   float64\n",
      " 15  from_long            9985 non-null   float64\n",
      " 16  to_lat               7909 non-null   float64\n",
      " 17  to_long              7909 non-null   float64\n",
      " 18  Car_Cancellation     10000 non-null  int64  \n",
      "dtypes: float64(9), int64(7), object(3)\n",
      "memory usage: 1.4+ MB\n",
      "None\n"
     ]
    }
   ],
   "source": [
    "print(df.info())"
   ]
  },
  {
   "cell_type": "code",
   "execution_count": 4,
   "id": "470356d8-916c-4452-99fb-34854b0abe0e",
   "metadata": {},
   "outputs": [
    {
     "name": "stdout",
     "output_type": "stream",
     "text": [
      "Data before processing: \n",
      "row#                      0\n",
      "user_id                   0\n",
      "vehicle_model_id          0\n",
      "package_id             8248\n",
      "travel_type_id            0\n",
      "from_area_id             15\n",
      "to_area_id             2091\n",
      "from_city_id           6294\n",
      "to_city_id             9661\n",
      "from_date                 0\n",
      "to_date                4178\n",
      "online_booking            0\n",
      "mobile_site_booking       0\n",
      "booking_created           0\n",
      "from_lat                 15\n",
      "from_long                15\n",
      "to_lat                 2091\n",
      "to_long                2091\n",
      "Car_Cancellation          0\n",
      "dtype: int64\n",
      "Data after processing: \n",
      "row#                   0\n",
      "user_id                0\n",
      "vehicle_model_id       0\n",
      "package_id             0\n",
      "travel_type_id         0\n",
      "from_area_id           0\n",
      "to_area_id             0\n",
      "from_city_id           0\n",
      "to_city_id             0\n",
      "from_date              0\n",
      "to_date                0\n",
      "online_booking         0\n",
      "mobile_site_booking    0\n",
      "booking_created        0\n",
      "from_lat               0\n",
      "from_long              0\n",
      "to_lat                 0\n",
      "to_long                0\n",
      "Car_Cancellation       0\n",
      "dtype: int64\n"
     ]
    }
   ],
   "source": [
    "#check for missing values\n",
    "print(\"Data before processing: \")\n",
    "print(df.isnull().sum())\n",
    "\n",
    "#fill missing values\n",
    "for col in df.columns:\n",
    "    df[col] = df[col].fillna(df[col].mode()[0])\n",
    "\n",
    "#check for missing values\n",
    "print(\"Data after processing: \")\n",
    "print(df.isnull().sum())"
   ]
  },
  {
   "cell_type": "code",
   "execution_count": 5,
   "id": "577c5602-aea5-4cd9-9713-b5060ca24916",
   "metadata": {},
   "outputs": [
    {
     "name": "stdout",
     "output_type": "stream",
     "text": [
      "\n",
      "Unique Values in Categorical Columns:\n",
      "travel_type_id: [2 3 1]\n",
      "package_id: [1. 2. 3. 4. 6. 7. 5.]\n",
      "online_booking: [0 1]\n",
      "mobile_site_booking: [0 1]\n",
      "Car_Cancellation: [0 1]\n"
     ]
    }
   ],
   "source": [
    "cat_cols = ['travel_type_id', 'package_id', 'online_booking', 'mobile_site_booking', 'Car_Cancellation']\n",
    "print(\"\\nUnique Values in Categorical Columns:\")\n",
    "for col in cat_cols:\n",
    "    print(f\"{col}: {df[col].unique()}\")"
   ]
  },
  {
   "cell_type": "code",
   "execution_count": 6,
   "id": "0eb8214c-91a7-456c-b8fb-eb0cec96db9b",
   "metadata": {},
   "outputs": [
    {
     "name": "stdout",
     "output_type": "stream",
     "text": [
      "<class 'pandas.core.frame.DataFrame'>\n",
      "RangeIndex: 10000 entries, 0 to 9999\n",
      "Data columns (total 16 columns):\n",
      " #   Column               Non-Null Count  Dtype  \n",
      "---  ------               --------------  -----  \n",
      " 0   row#                 10000 non-null  int64  \n",
      " 1   user_id              10000 non-null  int64  \n",
      " 2   vehicle_model_id     10000 non-null  int64  \n",
      " 3   package_id           10000 non-null  float64\n",
      " 4   travel_type_id       10000 non-null  int64  \n",
      " 5   from_area_id         10000 non-null  float64\n",
      " 6   to_area_id           10000 non-null  float64\n",
      " 7   from_city_id         10000 non-null  float64\n",
      " 8   to_city_id           10000 non-null  float64\n",
      " 9   online_booking       10000 non-null  int64  \n",
      " 10  mobile_site_booking  10000 non-null  int64  \n",
      " 11  from_lat             10000 non-null  float64\n",
      " 12  from_long            10000 non-null  float64\n",
      " 13  to_lat               10000 non-null  float64\n",
      " 14  to_long              10000 non-null  float64\n",
      " 15  Car_Cancellation     10000 non-null  int64  \n",
      "dtypes: float64(9), int64(7)\n",
      "memory usage: 1.2 MB\n",
      "None\n"
     ]
    }
   ],
   "source": [
    "\n",
    "\n",
    "# Drop the problematic datetime columns\n",
    "df=df.drop(columns=['from_date', 'to_date', 'booking_created'])\n",
    "\n",
    "# Check if the issue is resolved\n",
    "print(df.info())\n"
   ]
  },
  {
   "cell_type": "code",
   "execution_count": 7,
   "id": "f1a4e780-2e4f-445e-9e91-5f74c25d56af",
   "metadata": {},
   "outputs": [
    {
     "data": {
      "image/png": "[encoded data removed]",
      "text/plain": [
       "<Figure size 640x480 with 1 Axes>"
      ]
     },
     "metadata": {},
     "output_type": "display_data"
    }
   ],
   "source": [
    "# Distribution of cancellations\n",
    "sns.countplot(data=df, x='Car_Cancellation')\n",
    "plt.title(\"Distribution of Car Cancellations\")\n",
    "plt.xlabel(\"Car Cancellation (0 = No, 1 = Yes)\")\n",
    "plt.ylabel(\"Count\")\n",
    "plt.show()"
   ]
  },
  {
   "cell_type": "raw",
   "id": "b39c56e8-c278-4b57-b36c-0c63af41d6f4",
   "metadata": {},
   "source": [
    "Note: corr() only works upon the numeric data and not  strings. So remember to filter out he columns which have numeric values before applying the dimernsion reduction\n",
    "\n",
    "If you find features with correlation > 0.85 or < -0.85, they may carry similar info — drop one. then dimension reduction is needed."
   ]
  },
  {
   "cell_type": "raw",
   "id": "5a223cc3-e0f2-4047-a9f1-ce57dcccbe48",
   "metadata": {},
   "source": [
    "# need of dimension reduction\n",
    "\n",
    "# Select only numeric columns for correlation analysis\n",
    "numeric_df = df.select_dtypes(include=['int64', 'float64'])\n",
    "\n",
    "corr = numeric_df.corr()\n",
    "plt.figure(figsize=(12, 6))\n",
    "sns.heatmap(corr, annot=True, cmap=\"coolwarm\")\n",
    "plt.title(\"Feature Correlation Heatmap\")\n",
    "plt.show()\n",
    "\n",
    "\n",
    "#steps for reduction\n",
    "from sklearn.decomposition import PCA\n",
    "from sklearn.preprocessing import StandardScaler\n",
    "\n",
    "# Step 1: Extract the two correlated columns\n",
    "geo_data = df[['to_lat', 'to_long']]\n",
    "\n",
    "# Step 2: Standardize the data (important for PCA!)\n",
    "scaler = StandardScaler()\n",
    "geo_scaled = scaler.fit_transform(geo_data)\n",
    "\n",
    "# Step 3: Apply PCA\n",
    "pca = PCA(n_components=1)  # reduce to 1 component\n",
    "geo_pca = pca.fit_transform(geo_scaled)\n",
    "\n",
    "# Step 4: Add the new PCA feature back to the original DataFrame\n",
    "df['to_location_pca'] = geo_pca\n",
    "\n",
    "# Step 5: Drop the original columns (optional)\n",
    "df.drop(['to_lat', 'to_long'], axis=1, inplace=True)\n",
    "\n"
   ]
  },
  {
   "cell_type": "raw",
   "id": "61e47754-99a6-4e0a-b587-7dd612ef87af",
   "metadata": {},
   "source": [
    "numeric_df = df.select_dtypes(include=['int64', 'float64'])\n",
    "\n",
    "corr = numeric_df.corr()\n",
    "plt.figure(figsize=(12, 6))\n",
    "sns.heatmap(corr, annot=True, cmap=\"coolwarm\")\n",
    "plt.title(\"Feature Correlation Heatmap\")\n",
    "plt.show()\n",
    "\n",
    "print(f\"Explained Variance by PCA Component: {pca.explained_variance_ratio_[0]*100:.2f}%\")\n"
   ]
  },
  {
   "cell_type": "code",
   "execution_count": 8,
   "id": "171444fc-f7e5-4fa8-b32f-2ad5c2fe5341",
   "metadata": {},
   "outputs": [],
   "source": [
    "from sklearn.preprocessing import LabelEncoder\n",
    "\n",
    "# Label Encoding categorical columns\n",
    "le = LabelEncoder()\n",
    "\n",
    "df['vehicle_model_id'] = le.fit_transform(df['vehicle_model_id'])\n",
    "df['travel_type_id'] = le.fit_transform(df['travel_type_id'])\n",
    "df['from_area_id'] = le.fit_transform(df['from_area_id'])\n",
    "df['to_area_id'] = le.fit_transform(df['to_area_id'])\n",
    "\n",
    "# Note: 'Car_Cancellation' is already binary, so no need for encoding."
   ]
  },
  {
   "cell_type": "code",
   "execution_count": 9,
   "id": "8210a62c-fe2e-455c-a1f6-8c1a57adcfbc",
   "metadata": {},
   "outputs": [],
   "source": [
    "from sklearn.model_selection import train_test_split\n",
    "\n",
    "# Assuming 'df' is your cleaned dataframe and preprocessed\n",
    "X = df.drop(columns=['Car_Cancellation'])  # Features\n",
    "y = df['Car_Cancellation']  # Target\n",
    "\n",
    "# Split dataset into training and test sets\n",
    "X_train, X_test, y_train, y_test = train_test_split(X, y, test_size=0.2, random_state=42)\n"
   ]
  },
  {
   "cell_type": "code",
   "execution_count": null,
   "id": "c3069693-ba93-4d45-8418-9cddf4815f78",
   "metadata": {},
   "outputs": [],
   "source": []
  },
  {
   "cell_type": "code",
   "execution_count": 10,
   "id": "b72eb423-3aba-44de-99f7-8b6f31e2887f",
   "metadata": {},
   "outputs": [],
   "source": [
    "from sklearn.linear_model import LogisticRegression\n",
    "from sklearn.ensemble import RandomForestClassifier\n",
    "from sklearn.neighbors import KNeighborsClassifier\n",
    "from sklearn.svm import SVC\n",
    "from sklearn.metrics import accuracy_score, confusion_matrix, classification_report\n",
    "\n",
    "# Function to evaluate model\n",
    "def accuracy(model, model_name):\n",
    "    model.fit(X_train, y_train)\n",
    "    y_pred = model.predict(X_test)\n",
    "    \n",
    "    print(f\"\\nModel: {model_name}\")\n",
    "    print(f\"Accuracy: {accuracy_score(y_test, y_pred):.4f}\")"
   ]
  },
  {
   "cell_type": "code",
   "execution_count": 11,
   "id": "cd6fa1e6-3cf4-4ef7-be9b-57b2b6fc5320",
   "metadata": {},
   "outputs": [
    {
     "name": "stdout",
     "output_type": "stream",
     "text": [
      "\n",
      "Model: Logistic Regression\n",
      "Accuracy: 0.9380\n"
     ]
    }
   ],
   "source": [
    "# Logistic Regression\n",
    "log_reg = LogisticRegression(solver='liblinear', max_iter=2000)\n",
    "accuracy(log_reg, \"Logistic Regression\")"
   ]
  },
  {
   "cell_type": "raw",
   "id": "4f380d02-0f65-4f00-9be1-42791a243abb",
   "metadata": {},
   "source": [
    "Had to change the default solver thats is lbfgs to liblinear bcz lbfgs wasn't able to converge all the data under the max iterations."
   ]
  },
  {
   "cell_type": "code",
   "execution_count": 12,
   "id": "96af1bc9-64ad-49f4-8c9f-4586263f8776",
   "metadata": {},
   "outputs": [
    {
     "name": "stdout",
     "output_type": "stream",
     "text": [
      "\n",
      "Model: Random Forest\n",
      "Accuracy: 0.9375\n"
     ]
    }
   ],
   "source": [
    "# Random Forest Classifier\n",
    "rf_model = RandomForestClassifier(n_estimators=100, random_state=42)\n",
    "accuracy(rf_model, \"Random Forest\")"
   ]
  },
  {
   "cell_type": "code",
   "execution_count": 13,
   "id": "28f5d3a7-6543-4b4f-bceb-fe6ff47c9476",
   "metadata": {},
   "outputs": [
    {
     "name": "stdout",
     "output_type": "stream",
     "text": [
      "\n",
      "Model: K-Nearest Neighbors\n",
      "Accuracy: 0.9275\n"
     ]
    }
   ],
   "source": [
    "# K-Nearest Neighbors (KNN)\n",
    "knn_model = KNeighborsClassifier(n_neighbors=5)\n",
    "accuracy(knn_model, \"K-Nearest Neighbors\")"
   ]
  },
  {
   "cell_type": "code",
   "execution_count": 14,
   "id": "813e84f8-75d9-4dc7-9592-63c0a5ee1ebc",
   "metadata": {},
   "outputs": [
    {
     "name": "stdout",
     "output_type": "stream",
     "text": [
      "\n",
      "Model: Support Vector Machine\n",
      "Accuracy: 0.9380\n"
     ]
    }
   ],
   "source": [
    "# Support Vector Machine (SVM)\n",
    "svm_model = SVC()\n",
    "accuracy(svm_model, \"Support Vector Machine\")"
   ]
  },
  {
   "cell_type": "code",
   "execution_count": 15,
   "id": "8f4e0b54-1b46-498b-bd1c-69792065ee35",
   "metadata": {},
   "outputs": [
    {
     "data": {
      "image/png": "[encoded data removed]",
      "text/plain": [
       "<Figure size 640x480 with 1 Axes>"
      ]
     },
     "metadata": {},
     "output_type": "display_data"
    }
   ],
   "source": [
    "model_names = ['Logistic Regression', 'Random Forest', 'KNN', 'SVM']\n",
    "accuracies = [0.9380, 0.9400, 0.9315, 0.9380]\n",
    "\n",
    "plt.bar(model_names, accuracies, color='green')\n",
    "plt.ylabel('Accuracy')\n",
    "plt.xlabel('Model')\n",
    "plt.title('Report of Models Performance')\n",
    "#adding min and max values on y axis\n",
    "plt.ylim(0.90, 0.95)\n",
    "plt.grid(True)\n",
    "plt.show()\n"
   ]
  },
  {
   "cell_type": "raw",
   "id": "b7adcb34-f08b-4dbc-a393-cb5a1c4d064c",
   "metadata": {},
   "source": [
    "The best selected model is 'Random Forest' with accuracy of 94%."
   ]
  },
  {
   "cell_type": "markdown",
   "id": "b74e5de1-3526-4956-a5f1-9002045106b8",
   "metadata": {},
   "source": [
    "## Selected Model: Random Forest"
   ]
  },
  {
   "cell_type": "code",
   "execution_count": 16,
   "id": "34b08311-1e27-4312-b456-9ee4078928ed",
   "metadata": {},
   "outputs": [],
   "source": [
    "# Function to evaluate model\n",
    "def evaluate(model, model_name):\n",
    "    model.fit(X_train, y_train)\n",
    "    y_pred = model.predict(X_test)\n",
    "    \n",
    "    print(f\"\\nModel: {model_name}\")\n",
    "    print(f\"Accuracy: {accuracy_score(y_test, y_pred):.4f}\")\n",
    "    print(\"\\nClassification Report:\\n\", classification_report(y_test, y_pred, zero_division=0))\n",
    "\n",
    "    \n",
    "    # Confusion Matrix\n",
    "    # cm = confusion_matrix(y_test, y_pred)\n",
    "    # plt.figure(figsize=(6, 6))\n",
    "    # sns.heatmap(cm, annot=True, fmt='d', cmap='Blues', xticklabels=le.classes_, yticklabels=le.classes_)\n",
    "    # plt.title(f'Confusion Matrix - {model_name}')\n",
    "    # plt.xlabel('Predicted')\n",
    "    # plt.ylabel('Actual')\n",
    "    # plt.show()\n"
   ]
  },
  {
   "cell_type": "code",
   "execution_count": 17,
   "id": "cde1e5ee-a2b6-40be-9801-23be07c38aac",
   "metadata": {},
   "outputs": [
    {
     "name": "stdout",
     "output_type": "stream",
     "text": [
      "\n",
      "Model: Random Forest\n",
      "Accuracy: 0.9375\n",
      "\n",
      "Classification Report:\n",
      "               precision    recall  f1-score   support\n",
      "\n",
      "           0       0.94      0.99      0.97      1876\n",
      "           1       0.48      0.11      0.18       124\n",
      "\n",
      "    accuracy                           0.94      2000\n",
      "   macro avg       0.71      0.55      0.58      2000\n",
      "weighted avg       0.92      0.94      0.92      2000\n",
      "\n"
     ]
    }
   ],
   "source": [
    "# Random Forest Classifier\n",
    "rf_model = RandomForestClassifier(n_estimators=100, random_state=42)\n",
    "evaluate(rf_model, \"Random Forest\")"
   ]
  },
  {
   "cell_type": "markdown",
   "id": "05b66b80-f0ae-4783-9622-8c445c32972b",
   "metadata": {},
   "source": [
    "## Conclusion\n",
    "\n",
    "Random Forest gave the best results — around 94% accuracy. Also, detect some cancelled rides.\n",
    "Logistic Regression and SVM had 93.8% accuracy which is super close to random forest but isnt the best to work with.\n",
    "KNN was okay, but still not great at identifying the rare cancellations"
   ]
  },
  {
   "cell_type": "markdown",
   "id": "12663eb5-0f1a-4644-9513-c152312b29fd",
   "metadata": {},
   "source": [
    "## Supporting SAR Goals"
   ]
  },
  {
   "cell_type": "raw",
   "id": "b6d4c253-faf6-42c8-be2d-2e4583547bf3",
   "metadata": {},
   "source": [
    "SAR wants to:\n",
    "- Improve customer experience\n",
    "- Reduce cancellations\n",
    "- Optimize driver and vehicle assignments\n",
    "\n",
    "We can help by==>\n",
    "1. We identified patterns — like which areas or time slots have more cancellations.\n",
    "2. The models can flag future bookings that look risky (more likely to get cancelled), so SAR can take early actions.\n",
    "3. The analysis gives insights into customer behavior, booking trends, and operational gaps.\n",
    "4. This helps SAR make smarter, data-based decisions, which saves time, reduces losses, and improves service."
   ]
  },
  {
   "cell_type": "code",
   "execution_count": null,
   "id": "2046e09c-44da-47ab-8323-e675dd9823a3",
   "metadata": {},
   "outputs": [],
   "source": []
  }
 ],
 "metadata": {
  "kernelspec": {
   "display_name": "Python 3 (ipykernel)",
   "language": "python",
   "name": "python3"
  },
  "language_info": {
   "codemirror_mode": {
    "name": "ipython",
    "version": 3
   },
   "file_extension": ".py",
   "mimetype": "text/x-python",
   "name": "python",
   "nbconvert_exporter": "python",
   "pygments_lexer": "ipython3",
   "version": "3.11.7"
  }
 },
 "nbformat": 4,
 "nbformat_minor": 5
}
